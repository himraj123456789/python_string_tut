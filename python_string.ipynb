{
 "cells": [
  {
   "cell_type": "markdown",
   "metadata": {},
   "source": [
    "##                                       ## python string\n",
    "\n",
    "\n",
    "Following are the method for string given below\n",
    "\n",
    "Method\tDescription\n",
    "capitalize()\tConverts the first character to upper case\n",
    "\n",
    "casefold()\tConverts string into lower case\n",
    "\n",
    "center()\tReturns a centered string\n",
    "\n",
    "count()\tReturns the number of times a specified value occurs in a string\n",
    "\n",
    "encode()\tReturns an encoded version of the string\n",
    "\n",
    "endswith()\tReturns true if the string ends with the specified value\n",
    "\n",
    "expandtabs()\tSets the tab size of the string\n",
    "\n",
    "find()\tSearches the string for a specified value and returns the position of where it was found\n",
    "\n",
    "format()\tFormats specified values in a string\n",
    "\n",
    "format_map()\tFormats specified values in a string\n",
    "\n",
    "index()\tSearches the string for a specified value and returns the position of where it was found\n",
    "\n",
    "isalnum()\tReturns True if all characters in the string are alphanumeric\n",
    "\n",
    "isalpha()\tReturns True if all characters in the string are in the alphabet\n",
    "\n",
    "isdecimal()\tReturns True if all characters in the string are decimals\n",
    "\n",
    "isdigit()\tReturns True if all characters in the string are digits\n",
    "\n",
    "isidentifier()\tReturns True if the string is an identifier\n",
    "\n",
    "islower()\tReturns True if all characters in the string are lower case\n",
    "\n",
    "isnumeric()\tReturns True if all characters in the string are numeric\n",
    "\n",
    "isprintable()\tReturns True if all characters in the string are printable\n",
    "\n",
    "isspace()\tReturns True if all characters in the string are whitespaces\n",
    "\n",
    "istitle()\tReturns True if the string follows the rules of a title\n",
    "\n",
    "isupper()\tReturns True if all characters in the string are upper case\n",
    "\n",
    "join()\tJoins the elements of an iterable to the end of the string\n",
    "\n",
    "ljust()\tReturns a left justified version of the string\n",
    "\n",
    "lower()\tConverts a string into lower case\n",
    "\n",
    "lstrip()\tReturns a left trim version of the string\n",
    "\n",
    "maketrans()\tReturns a translation table to be used in translations\n",
    "\n",
    "partition()\tReturns a tuple where the string is parted into three parts\n",
    "\n",
    "replace()\tReturns a string where a specified value is replaced with a specified value\n",
    "\n",
    "rfind()\tSearches the string for a specified value and returns the last position of where it was found\n",
    "\n",
    "rindex()\tSearches the string for a specified value and returns the last position of where it was found\n",
    "\n",
    "rjust()\tReturns a right justified version of the string\n",
    "\n",
    "rpartition()\tReturns a tuple where the string is parted into three parts\n",
    "\n",
    "rsplit()\tSplits the string at the specified separator, and returns a list\n",
    "\n",
    "rstrip()\tReturns a right trim version of the string\n",
    "\n",
    "split()\tSplits the string at the specified separator, and returns a list\n",
    "\n",
    "splitlines()\tSplits the string at line breaks and returns a list\n",
    "\n",
    "startswith()\tReturns true if the string starts with the specified value\n",
    "\n",
    "\n",
    "strip()\tReturns a trimmed version of the string\n",
    "\n",
    "swapcase()\tSwaps cases, lower case becomes upper case and vice versa\n",
    "\n",
    "title()\tConverts the first character of each word to upper case\n",
    "\n",
    "translate()\tReturns a translated string\n",
    "\n",
    "upper()\tConverts a string into upper case\n",
    "\n",
    "zfill()\tFills the string with a specified number of 0 values at the beginning"
   ]
  },
  {
   "cell_type": "markdown",
   "metadata": {},
   "source": [
    "##                                                 capitalize()"
   ]
  },
  {
   "cell_type": "code",
   "execution_count": 1,
   "metadata": {},
   "outputs": [
    {
     "name": "stdout",
     "output_type": "stream",
     "text": [
      "Hello, and welcome to my world.\n"
     ]
    }
   ],
   "source": [
    "txt = \"hello, and welcome to my world.\"\n",
    "x = txt.capitalize()\n",
    "print (x)  # it will capital first character of the string"
   ]
  },
  {
   "cell_type": "markdown",
   "metadata": {},
   "source": [
    "# casefold()\n"
   ]
  },
  {
   "cell_type": "code",
   "execution_count": 2,
   "metadata": {},
   "outputs": [
    {
     "name": "stdout",
     "output_type": "stream",
     "text": [
      "hello\n"
     ]
    }
   ],
   "source": [
    "## converts string in to the lower \n",
    "txt=\"HELLO\"\n",
    "print(txt.casefold())"
   ]
  },
  {
   "cell_type": "markdown",
   "metadata": {},
   "source": [
    "# count()"
   ]
  },
  {
   "cell_type": "code",
   "execution_count": 4,
   "metadata": {},
   "outputs": [
    {
     "name": "stdout",
     "output_type": "stream",
     "text": [
      "2\n"
     ]
    }
   ],
   "source": [
    "##Return the number of times the value appears in the string:\n",
    "#syntax txt.count(value,start,end)\n",
    "txt=\"hell my hell go\"\n",
    "print(txt.count(\"hell\"))"
   ]
  },
  {
   "cell_type": "markdown",
   "metadata": {},
   "source": [
    "# endwith()"
   ]
  },
  {
   "cell_type": "code",
   "execution_count": 6,
   "metadata": {},
   "outputs": [
    {
     "name": "stdout",
     "output_type": "stream",
     "text": [
      "False\n"
     ]
    }
   ],
   "source": [
    "##Returns true if the string ends with the specified value\n",
    "## sytax -- txt.endwith(value,start,end)\n",
    "txt=\"hello how are you\"\n",
    "print(txt.endswith(\".\"))"
   ]
  },
  {
   "cell_type": "markdown",
   "metadata": {},
   "source": [
    "## expandtabs()"
   ]
  },
  {
   "cell_type": "code",
   "execution_count": 7,
   "metadata": {},
   "outputs": [
    {
     "name": "stdout",
     "output_type": "stream",
     "text": [
      "H e l l o\n"
     ]
    }
   ],
   "source": [
    "txt = \"H\\te\\tl\\tl\\to\"\n",
    "\n",
    "x =  txt.expandtabs(2)  # size of tabs\n",
    "\n",
    "print(x)"
   ]
  },
  {
   "cell_type": "markdown",
   "metadata": {},
   "source": [
    "## find()"
   ]
  },
  {
   "cell_type": "code",
   "execution_count": 9,
   "metadata": {},
   "outputs": [
    {
     "name": "stdout",
     "output_type": "stream",
     "text": [
      "7\n"
     ]
    }
   ],
   "source": [
    "## string.find(value,start,end)\n",
    "txt = \"Hello, welcome to my world.\"\n",
    "\n",
    "x = txt.find(\"welcome\")\n",
    "\n",
    "print(x)"
   ]
  },
  {
   "cell_type": "markdown",
   "metadata": {},
   "source": [
    "\n",
    "# format()"
   ]
  },
  {
   "cell_type": "code",
   "execution_count": 10,
   "metadata": {},
   "outputs": [
    {
     "name": "stdout",
     "output_type": "stream",
     "text": [
      "the 49.00\n"
     ]
    }
   ],
   "source": [
    "txt=\"the {price:.2f}\"\n",
    "print(txt.format(price=49))"
   ]
  },
  {
   "cell_type": "markdown",
   "metadata": {},
   "source": [
    "# index()\n"
   ]
  },
  {
   "cell_type": "code",
   "execution_count": 11,
   "metadata": {},
   "outputs": [
    {
     "name": "stdout",
     "output_type": "stream",
     "text": [
      "6\n"
     ]
    }
   ],
   "source": [
    "txt=\"hello welcome to this new world\"\n",
    "print(txt.index(\"welcome\"))"
   ]
  },
  {
   "cell_type": "markdown",
   "metadata": {},
   "source": [
    "# isalnum()"
   ]
  },
  {
   "cell_type": "code",
   "execution_count": 16,
   "metadata": {},
   "outputs": [
    {
     "name": "stdout",
     "output_type": "stream",
     "text": [
      "False\n"
     ]
    }
   ],
   "source": [
    "txt=\"hello99@\"\n",
    "print(txt.isalnum())"
   ]
  },
  {
   "cell_type": "markdown",
   "metadata": {},
   "source": [
    "# isalnum() program to prevent server from unknown tag"
   ]
  },
  {
   "cell_type": "code",
   "execution_count": 18,
   "metadata": {},
   "outputs": [
    {
     "name": "stdout",
     "output_type": "stream",
     "text": [
      "enter the string666\n",
      "your string is valid\n"
     ]
    }
   ],
   "source": [
    "input_string=str(input(\"enter the string\"))\n",
    "value=input_string.isalnum()\n",
    "if(value):\n",
    "    print(\"your string is valid\")\n",
    "else:\n",
    "    print(\"your string is invalid please Try again\")"
   ]
  },
  {
   "cell_type": "markdown",
   "metadata": {},
   "source": [
    "# isalpha()"
   ]
  },
  {
   "cell_type": "code",
   "execution_count": 22,
   "metadata": {},
   "outputs": [
    {
     "name": "stdout",
     "output_type": "stream",
     "text": [
      "False\n"
     ]
    }
   ],
   "source": [
    "txt=\"hello@\"\n",
    "print(txt.isalpha())"
   ]
  },
  {
   "cell_type": "markdown",
   "metadata": {},
   "source": [
    "# isdecimal()"
   ]
  },
  {
   "cell_type": "code",
   "execution_count": 24,
   "metadata": {},
   "outputs": [
    {
     "name": "stdout",
     "output_type": "stream",
     "text": [
      "False\n"
     ]
    }
   ],
   "source": [
    "txt=\"123a\"\n",
    "print(txt.isdecimal())"
   ]
  },
  {
   "cell_type": "markdown",
   "metadata": {},
   "source": [
    "# isdigit()"
   ]
  },
  {
   "cell_type": "code",
   "execution_count": 26,
   "metadata": {},
   "outputs": [
    {
     "name": "stdout",
     "output_type": "stream",
     "text": [
      "False\n"
     ]
    }
   ],
   "source": [
    "txt=\"123a\"\n",
    "print(txt.isdigit())"
   ]
  },
  {
   "cell_type": "markdown",
   "metadata": {},
   "source": [
    "# isidentifier()\n",
    "Definition and Usage\n",
    "The isidentifier() method returns True if the string is a valid identifier, otherwise False.\n",
    "\n",
    "A string is considered a valid identifier if it only contains alphanumeric letters (a-z) and (0-9), or underscores (_). A valid identifier cannot start with a number, or contain any spaces.\n"
   ]
  },
  {
   "cell_type": "markdown",
   "metadata": {},
   "source": [
    "# islower()"
   ]
  },
  {
   "cell_type": "code",
   "execution_count": 28,
   "metadata": {},
   "outputs": [
    {
     "name": "stdout",
     "output_type": "stream",
     "text": [
      "False\n"
     ]
    }
   ],
   "source": [
    "#Check if all the characters in the text are in lower case:\n",
    "txt=\"hEllo\"\n",
    "print(txt.islower())"
   ]
  },
  {
   "cell_type": "markdown",
   "metadata": {},
   "source": [
    "# isnumeric()"
   ]
  },
  {
   "cell_type": "code",
   "execution_count": 31,
   "metadata": {},
   "outputs": [
    {
     "name": "stdout",
     "output_type": "stream",
     "text": [
      "True\n"
     ]
    }
   ],
   "source": [
    "#Check if all the characters in the text are numeric:\n",
    "txt=\"122\"\n",
    "print(txt.isnumeric())"
   ]
  },
  {
   "cell_type": "markdown",
   "metadata": {},
   "source": [
    "# isspace()"
   ]
  },
  {
   "cell_type": "code",
   "execution_count": 37,
   "metadata": {},
   "outputs": [
    {
     "name": "stdout",
     "output_type": "stream",
     "text": [
      "True\n"
     ]
    }
   ],
   "source": [
    "##Check if all the characters in the text are whitespaces:\n",
    "txt=\"   \"\n",
    "print(txt.isspace())"
   ]
  },
  {
   "cell_type": "markdown",
   "metadata": {},
   "source": [
    "# isupper()"
   ]
  },
  {
   "cell_type": "code",
   "execution_count": 39,
   "metadata": {},
   "outputs": [
    {
     "name": "stdout",
     "output_type": "stream",
     "text": [
      "False\n"
     ]
    }
   ],
   "source": [
    "txt=\"HELLO\"\n",
    "print(txt.isupper())"
   ]
  },
  {
   "cell_type": "markdown",
   "metadata": {},
   "source": [
    "# join()"
   ]
  },
  {
   "cell_type": "markdown",
   "metadata": {},
   "source": [
    "The join() method takes all items in an iterable and joins them into one string.\n",
    "\n",
    "A string must be specified as the separator.\n",
    "\n",
    "Syntax\n",
    "string.join(iterable)"
   ]
  },
  {
   "cell_type": "code",
   "execution_count": 44,
   "metadata": {},
   "outputs": [
    {
     "name": "stdout",
     "output_type": "stream",
     "text": [
      "John#Peter#Vicky\n",
      "192\n"
     ]
    }
   ],
   "source": [
    "myTuple = (\"John\", \"Peter\", \"Vicky\")\n",
    "\n",
    "x = \"#\".join(myTuple)\n",
    "\n",
    "print(x)\n",
    "\n",
    "list1=['1','2']\n",
    "x1=\"9\".join(list1)\n",
    "print(x1)"
   ]
  },
  {
   "cell_type": "markdown",
   "metadata": {},
   "source": [
    "# ljust()\n",
    "The ljust() method will left align the string, using a specified character (space is default) as the fill character.\n",
    "string.ljust(length, character)"
   ]
  },
  {
   "cell_type": "code",
   "execution_count": 49,
   "metadata": {},
   "outputs": [
    {
     "name": "stdout",
     "output_type": "stream",
     "text": [
      "banana               is my favorite fruit.\n",
      "python     hai\n"
     ]
    }
   ],
   "source": [
    "txt = \"banana\"\n",
    "\n",
    "x = txt.ljust(20)\n",
    "\n",
    "print(x, \"is my favorite fruit.\")\n",
    "\n",
    "new_text=\"python\"\n",
    "x=new_text.ljust(10)\n",
    "print(x,\"hai\")\n"
   ]
  },
  {
   "cell_type": "markdown",
   "metadata": {},
   "source": [
    "# lower()\n",
    "covert text in to lower case"
   ]
  },
  {
   "cell_type": "code",
   "execution_count": 50,
   "metadata": {},
   "outputs": [
    {
     "name": "stdout",
     "output_type": "stream",
     "text": [
      "hello python\n"
     ]
    }
   ],
   "source": [
    "x=\"HELLO PYTHON\"\n",
    "print(x.lower())"
   ]
  },
  {
   "cell_type": "markdown",
   "metadata": {},
   "source": [
    "# lstrip()\n",
    "The lstrip() method removes any leading characters (space is the default leading character to remove)\n",
    "syntax:::\n",
    "\n",
    "txt.lstrip(character)"
   ]
  },
  {
   "cell_type": "code",
   "execution_count": 51,
   "metadata": {},
   "outputs": [
    {
     "name": "stdout",
     "output_type": "stream",
     "text": [
      "of all fruits banana      is my favorite\n"
     ]
    }
   ],
   "source": [
    "txt = \"     banana     \"\n",
    "\n",
    "x = txt.lstrip()\n",
    "\n",
    "print(\"of all fruits\", x, \"is my favorite\")"
   ]
  },
  {
   "cell_type": "code",
   "execution_count": 61,
   "metadata": {},
   "outputs": [
    {
     "name": "stdout",
     "output_type": "stream",
     "text": [
      ",,,,,ssaaww.....banana\n"
     ]
    }
   ],
   "source": [
    "txt = \",,,,,ssaaww.....banana\"\n",
    "\n",
    "x = txt.lstrip(\"\")\n",
    "\n",
    "print(x)"
   ]
  },
  {
   "cell_type": "markdown",
   "metadata": {},
   "source": [
    "# maketrans()\n",
    "The maketrans() method returns a mapping table that can be used with the translate() method to replace specified characters.\n",
    "Syntax\n",
    "string.maketrans(x, y, z)\n"
   ]
  },
  {
   "cell_type": "code",
   "execution_count": 67,
   "metadata": {},
   "outputs": [
    {
     "name": "stdout",
     "output_type": "stream",
     "text": [
      "{83: 80}\n",
      "Hello Pam!\n"
     ]
    }
   ],
   "source": [
    "txt = \"Hello Sam!\"\n",
    "mytable = txt.maketrans(\"S\", \"P\")\n",
    "print(mytable)\n",
    "\n",
    "print(txt.translate(mytable))"
   ]
  },
  {
   "cell_type": "code",
   "execution_count": 68,
   "metadata": {},
   "outputs": [
    {
     "name": "stdout",
     "output_type": "stream",
     "text": [
      "Hi Joe!\n"
     ]
    }
   ],
   "source": [
    "txt = \"Hi Sam!\"\n",
    "x = \"mSa\"\n",
    "y = \"eJo\"\n",
    "mytable = txt.maketrans(x, y)\n",
    "print(txt.translate(mytable))"
   ]
  },
  {
   "cell_type": "code",
   "execution_count": 69,
   "metadata": {},
   "outputs": [
    {
     "name": "stdout",
     "output_type": "stream",
     "text": [
      "G i Joe!\n"
     ]
    }
   ],
   "source": [
    "#The third parameter in the mapping table describes characters that you want to remove from the string:\n",
    "txt = \"Good night Sam!\"\n",
    "x = \"mSa\"\n",
    "y = \"eJo\"\n",
    "z = \"odnght\"\n",
    "mytable = txt.maketrans(x, y, z)\n",
    "print(txt.translate(mytable))"
   ]
  },
  {
   "cell_type": "markdown",
   "metadata": {},
   "source": [
    "# partition()\n",
    "The partition() method searches for a specified string, and splits the string into a tuple containing three elements.\n",
    "\n",
    "The first element contains the part before the specified string.\n",
    "\n",
    "The second element contains the specified string.\n",
    "\n",
    "The third element contains the part after the string.\n",
    "\n",
    "Note: This method search for the first occurrence of the specified string.\n",
    "\n"
   ]
  },
  {
   "cell_type": "code",
   "execution_count": 73,
   "metadata": {},
   "outputs": [
    {
     "name": "stdout",
     "output_type": "stream",
     "text": [
      "('I could ', 'eat', ' bananas all day hello in the dream')\n",
      "('I could eat bananas all day', '', '')\n"
     ]
    }
   ],
   "source": [
    "txt = \"I could eat bananas all day hello in the dream\"\n",
    "\n",
    "x = txt.partition(\"eat\")\n",
    "\n",
    "print(x)\n",
    "\n",
    "#If the specified value is not found, the partition() method returns a tuple containing: \n",
    "#1 - the whole string, 2 - an empty string, 3 - an empty string:\n",
    "\n",
    "\n",
    "txt = \"I could eat bananas all day\"\n",
    "\n",
    "x = txt.partition(\"apples\")\n",
    "\n",
    "print(x)"
   ]
  },
  {
   "cell_type": "markdown",
   "metadata": {},
   "source": [
    "# replace()\n",
    "Definition and Usage\n",
    "\n",
    "The replace() method replaces a specified phrase with another specified phrase.\n",
    "\n",
    "Syntax:\n",
    "\n",
    "string.replace(oldvalue, newvalue, count)"
   ]
  },
  {
   "cell_type": "code",
   "execution_count": 74,
   "metadata": {},
   "outputs": [
    {
     "name": "stdout",
     "output_type": "stream",
     "text": [
      "I like apples\n"
     ]
    }
   ],
   "source": [
    "txt = \"I like bananas\"\n",
    "\n",
    "x = txt.replace(\"bananas\", \"apples\")\n",
    "\n",
    "print(x)"
   ]
  },
  {
   "cell_type": "code",
   "execution_count": 75,
   "metadata": {},
   "outputs": [
    {
     "name": "stdout",
     "output_type": "stream",
     "text": [
      "three three was a race horse, two two was three too.\n"
     ]
    }
   ],
   "source": [
    "txt = \"one one was a race horse, two two was one too.\"\n",
    "\n",
    "x = txt.replace(\"one\", \"three\")\n",
    "\n",
    "print(x)"
   ]
  },
  {
   "cell_type": "code",
   "execution_count": 76,
   "metadata": {},
   "outputs": [
    {
     "name": "stdout",
     "output_type": "stream",
     "text": [
      "three three was a race horse, two two was one too.\n"
     ]
    }
   ],
   "source": [
    "txt = \"one one was a race horse, two two was one too.\"\n",
    "\n",
    "x = txt.replace(\"one\", \"three\", 2)\n",
    "\n",
    "print(x)"
   ]
  },
  {
   "cell_type": "markdown",
   "metadata": {},
   "source": [
    "# rfind()\n",
    "Definition and Usage\n",
    "\n",
    "The rfind() method finds the last occurrence of the specified value.\n",
    "\n",
    "The rfind() method returns -1 if the value is not found.\n",
    "\n",
    "The rfind() method is almost the same as the rindex() method. See example below.\n",
    "\n",
    "Syntax\n",
    "\n",
    "string.rfind(value, start, end)\n",
    "\n",
    "value\tRequired. The value to search for\n",
    "\n",
    "start\tOptional. Where to start the search. Default is 0\n",
    "\n",
    "end\tOptional. Where to end the search. Default is to the end of the string"
   ]
  },
  {
   "cell_type": "code",
   "execution_count": 84,
   "metadata": {},
   "outputs": [
    {
     "name": "stdout",
     "output_type": "stream",
     "text": [
      "22\n",
      "18\n"
     ]
    }
   ],
   "source": [
    "txt=\"hello how are you casa\"\n",
    "x = txt.rfind(\"casa\")\n",
    "print(len(txt))\n",
    "print(x)"
   ]
  },
  {
   "cell_type": "code",
   "execution_count": 85,
   "metadata": {},
   "outputs": [
    {
     "name": "stdout",
     "output_type": "stream",
     "text": [
      "13\n"
     ]
    }
   ],
   "source": [
    "txt = \"Hello, welcome to my world.\"\n",
    "\n",
    "x = txt.rfind(\"e\")\n",
    "\n",
    "print(x)"
   ]
  },
  {
   "cell_type": "code",
   "execution_count": 89,
   "metadata": {},
   "outputs": [
    {
     "name": "stdout",
     "output_type": "stream",
     "text": [
      "-1\n"
     ]
    }
   ],
   "source": [
    "txt = \"Hello, welcome to my world.\"\n",
    "\n",
    "print(txt.rfind(\"q\"))\n",
    "#print(txt.rindex(\"q\"))\n",
    " # if value not found by using rindex() function it show the exception\n",
    "    "
   ]
  },
  {
   "cell_type": "markdown",
   "metadata": {},
   "source": [
    "# rjust()\n",
    "Definition and Usage\n",
    "\n",
    "The rjust() method will right align the string, using a specified character (space is default) as the fill character.\n",
    "\n",
    "Syntax\n",
    "string.rjust(length, character)"
   ]
  },
  {
   "cell_type": "code",
   "execution_count": 90,
   "metadata": {},
   "outputs": [
    {
     "name": "stdout",
     "output_type": "stream",
     "text": [
      "              banana is my favorite fruit.\n"
     ]
    }
   ],
   "source": [
    "txt = \"banana\"\n",
    "\n",
    "x = txt.rjust(20)\n",
    "\n",
    "print(x, \"is my favorite fruit.\")"
   ]
  },
  {
   "cell_type": "markdown",
   "metadata": {},
   "source": [
    "# rpartition()\n",
    "Search for the last occurrence of the word \"bananas\", and return a tuple with three elements:\n",
    "\n",
    "1 - everything before the \"match\"\n",
    "\n",
    "2 - the \"match\"\n",
    "\n",
    "3 - everything after the \"match\"\n"
   ]
  },
  {
   "cell_type": "code",
   "execution_count": 91,
   "metadata": {},
   "outputs": [
    {
     "name": "stdout",
     "output_type": "stream",
     "text": [
      "('I could eat bananas all day, ', 'bananas', ' are my favorite fruit')\n"
     ]
    }
   ],
   "source": [
    "txt = \"I could eat bananas all day, bananas are my favorite fruit\"\n",
    "\n",
    "x = txt.rpartition(\"bananas\")\n",
    "\n",
    "print(x)"
   ]
  },
  {
   "cell_type": "markdown",
   "metadata": {},
   "source": [
    "# rsplit()\n",
    "The rsplit() method splits a string into a list, starting from the right.\n",
    "\n",
    "\n",
    "If no \"max\" is specified, this method will return the same as the split() method.\n",
    "\n",
    "\n",
    "Note: When maxsplit is specified, the list will contain the specified number of elements plus one.\n",
    "\n",
    "string.rsplit(separator, maxsplit)"
   ]
  },
  {
   "cell_type": "code",
   "execution_count": 92,
   "metadata": {},
   "outputs": [
    {
     "name": "stdout",
     "output_type": "stream",
     "text": [
      "['apple', 'banana', 'cherry']\n"
     ]
    }
   ],
   "source": [
    "txt = \"apple, banana, cherry\"\n",
    "\n",
    "x = txt.rsplit(\", \")\n",
    "\n",
    "print(x)"
   ]
  },
  {
   "cell_type": "code",
   "execution_count": 94,
   "metadata": {},
   "outputs": [
    {
     "name": "stdout",
     "output_type": "stream",
     "text": [
      "['hello how are you ', ' i am fine']\n"
     ]
    }
   ],
   "source": [
    "txt=\"hello how are you . i am fine\"\n",
    "x=txt.rsplit('.')\n",
    "print(x)"
   ]
  },
  {
   "cell_type": "code",
   "execution_count": 96,
   "metadata": {},
   "outputs": [
    {
     "name": "stdout",
     "output_type": "stream",
     "text": [
      "['apple, banana', 'cherry,him']\n"
     ]
    }
   ],
   "source": [
    "txt = \"apple, banana, cherry,him\"\n",
    "\n",
    "# setting the maxsplit parameter to 1, will return a list with 2 elements!\n",
    "x = txt.rsplit(\", \", 1)\n",
    "\n",
    "print(x)"
   ]
  },
  {
   "cell_type": "markdown",
   "metadata": {},
   "source": [
    "# split()\n",
    "\n",
    "The split() method splits a string into a list.\n",
    "\n",
    "\n",
    "You can specify the separator, default separator is any whitespace.\n",
    "\n",
    "\n",
    "Note: When maxsplit is specified, the list will contain the specified number of elements plus one.\n",
    "\n",
    "string.split(separator, maxsplit)"
   ]
  },
  {
   "cell_type": "code",
   "execution_count": 97,
   "metadata": {},
   "outputs": [
    {
     "name": "stdout",
     "output_type": "stream",
     "text": [
      "['hello', 'my name is Peter', 'I am 26 years old']\n"
     ]
    }
   ],
   "source": [
    "txt = \"hello, my name is Peter, I am 26 years old\"\n",
    "\n",
    "x = txt.split(\", \")\n",
    "\n",
    "print(x)"
   ]
  },
  {
   "cell_type": "code",
   "execution_count": 98,
   "metadata": {},
   "outputs": [
    {
     "name": "stdout",
     "output_type": "stream",
     "text": [
      "['apple', 'banana', 'cherry', 'orange']\n"
     ]
    }
   ],
   "source": [
    "txt = \"apple#banana#cherry#orange\"\n",
    "\n",
    "x = txt.split(\"#\")\n",
    "\n",
    "print(x)"
   ]
  },
  {
   "cell_type": "code",
   "execution_count": 99,
   "metadata": {},
   "outputs": [
    {
     "name": "stdout",
     "output_type": "stream",
     "text": [
      "['apple', 'banana#cherry#orange']\n"
     ]
    }
   ],
   "source": [
    "txt = \"apple#banana#cherry#orange\"\n",
    "\n",
    "# setting the maxsplit parameter to 1, will return a list with 2 elements!\n",
    "x = txt.split(\"#\", 1)\n",
    "\n",
    "print(x)"
   ]
  },
  {
   "cell_type": "markdown",
   "metadata": {},
   "source": [
    "#  splitlines()\n",
    "\n",
    "Definition and Usage\n",
    "\n",
    "The splitlines() method splits a string into a list. The splitting is done at line breaks."
   ]
  },
  {
   "cell_type": "code",
   "execution_count": 104,
   "metadata": {},
   "outputs": [
    {
     "name": "stdout",
     "output_type": "stream",
     "text": [
      "['Thank you for the music ', 'Welcome to the jungle']\n"
     ]
    }
   ],
   "source": [
    "txt = \"Thank you for the music \\nWelcome to the jungle\"\n",
    "\n",
    "x = txt.splitlines()\n",
    "\n",
    "print(x)"
   ]
  },
  {
   "cell_type": "code",
   "execution_count": 106,
   "metadata": {},
   "outputs": [
    {
     "name": "stdout",
     "output_type": "stream",
     "text": [
      "['Thank you for the music\\n', 'Welcome to the jungle']\n"
     ]
    }
   ],
   "source": [
    "# it keep the lines breaks\n",
    "\n",
    "txt = \"Thank you for the music\\nWelcome to the jungle\"\n",
    "\n",
    "x = txt.splitlines(True)\n",
    "\n",
    "print(x)"
   ]
  },
  {
   "cell_type": "markdown",
   "metadata": {},
   "source": [
    "# startwith()\n",
    "\n",
    "The startswith() method returns True if the string starts with the specified value, otherwise False\n",
    " \n",
    " syntax::::\n",
    " \n",
    " string.startswith(value, start, end)"
   ]
  },
  {
   "cell_type": "code",
   "execution_count": 107,
   "metadata": {},
   "outputs": [
    {
     "name": "stdout",
     "output_type": "stream",
     "text": [
      "True\n"
     ]
    }
   ],
   "source": [
    "txt = \"Hello, welcome to my world.\"\n",
    "\n",
    "x = txt.startswith(\"Hello\")\n",
    "\n",
    "print(x)"
   ]
  },
  {
   "cell_type": "code",
   "execution_count": 108,
   "metadata": {},
   "outputs": [
    {
     "name": "stdout",
     "output_type": "stream",
     "text": [
      "False\n"
     ]
    }
   ],
   "source": [
    "txt = \" hai Hello, welcome to my world.\"\n",
    "\n",
    "x = txt.startswith(\"Hello\")\n",
    "\n",
    "print(x)"
   ]
  },
  {
   "cell_type": "code",
   "execution_count": 109,
   "metadata": {},
   "outputs": [
    {
     "name": "stdout",
     "output_type": "stream",
     "text": [
      "True\n"
     ]
    }
   ],
   "source": [
    "txt = \"Hello, welcome to my world.\"\n",
    "\n",
    "x = txt.startswith(\"wel\", 7, 20)\n",
    "\n",
    "print(x)"
   ]
  },
  {
   "cell_type": "markdown",
   "metadata": {},
   "source": [
    "# strip()\n",
    "  This method is used to remove spaces and character you want to remove\n",
    "  '\n",
    "  syntax :::::\n",
    "  \n",
    " \n",
    "  \n",
    "string.strip(characters)"
   ]
  },
  {
   "cell_type": "code",
   "execution_count": 110,
   "metadata": {},
   "outputs": [
    {
     "name": "stdout",
     "output_type": "stream",
     "text": [
      "of all fruits banana is my favorite\n"
     ]
    }
   ],
   "source": [
    "txt = \"     banana     \"\n",
    "\n",
    "x = txt.strip()\n",
    "\n",
    "print(\"of all fruits\", x, \"is my favorite\")"
   ]
  },
  {
   "cell_type": "code",
   "execution_count": 113,
   "metadata": {},
   "outputs": [
    {
     "name": "stdout",
     "output_type": "stream",
     "text": [
      "hello joker \n",
      "hello joker ---\n"
     ]
    }
   ],
   "source": [
    "txt=\"hello joker ---\"\n",
    "x=txt.strip('-')\n",
    "print(x)\n",
    "print(txt)"
   ]
  },
  {
   "cell_type": "code",
   "execution_count": 116,
   "metadata": {},
   "outputs": [
    {
     "name": "stdout",
     "output_type": "stream",
     "text": [
      ",,,,,rrttgg.....banana\n"
     ]
    }
   ],
   "source": [
    "# remove the leading and trealing character also\n",
    "txt = \",,,,,rrttgg.....banana....rrr\"\n",
    "\n",
    "x = txt.strip(\".grt..\")\n",
    "\n",
    "print(x)"
   ]
  },
  {
   "cell_type": "code",
   "execution_count": null,
   "metadata": {},
   "outputs": [],
   "source": []
  }
 ],
 "metadata": {
  "kernelspec": {
   "display_name": "Python 3",
   "language": "python",
   "name": "python3"
  },
  "language_info": {
   "codemirror_mode": {
    "name": "ipython",
    "version": 3
   },
   "file_extension": ".py",
   "mimetype": "text/x-python",
   "name": "python",
   "nbconvert_exporter": "python",
   "pygments_lexer": "ipython3",
   "version": "3.8.5"
  }
 },
 "nbformat": 4,
 "nbformat_minor": 4
}
